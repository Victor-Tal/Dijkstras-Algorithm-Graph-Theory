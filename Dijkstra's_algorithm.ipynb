{
  "nbformat": 4,
  "nbformat_minor": 0,
  "metadata": {
    "colab": {
      "provenance": [],
      "include_colab_link": true
    },
    "kernelspec": {
      "name": "python3",
      "display_name": "Python 3"
    },
    "language_info": {
      "name": "python"
    }
  },
  "cells": [
    {
      "cell_type": "markdown",
      "metadata": {
        "id": "view-in-github",
        "colab_type": "text"
      },
      "source": [
        "<a href=\"https://colab.research.google.com/github/Victor-Tal/Dijkstras-Algorithm-Graph-Theory/blob/main/Dijkstra's_algorithm.ipynb\" target=\"_parent\"><img src=\"https://colab.research.google.com/assets/colab-badge.svg\" alt=\"Open In Colab\"/></a>"
      ]
    },
    {
      "cell_type": "markdown",
      "source": [
        "<center><h1>Victor Hugo Cordero</h1>\n",
        "<h4>Dijkstra's algorithm\n",
        "<br>\n",
        "<hr>\n",
        "</center>"
      ],
      "metadata": {
        "id": "YYYMZqN_6HL0"
      }
    },
    {
      "cell_type": "code",
      "execution_count": null,
      "metadata": {
        "colab": {
          "base_uri": "https://localhost:8080/"
        },
        "id": "tQtaWJiYpYr9",
        "outputId": "bf1f72f1-95a9-4485-a7b8-41fd6854c603"
      },
      "outputs": [
        {
          "output_type": "stream",
          "name": "stdout",
          "text": [
            "Distancias: {0: 0, 1: 3.0, 2: 8.0, 3: 6.0, 4: 9.0, 5: 5.0, 6: 1.0}\n",
            "Predecesores: {0: 0, 1: 6, 2: 1, 3: 5, 4: 3, 5: 6, 6: 0}\n"
          ]
        }
      ],
      "source": [
        "import numpy as np\n",
        "import math\n",
        "inf = math.inf\n",
        "\n",
        "def Dijkstra(D,s): #Definimos la función Dijkstra\n",
        "  n=len(D) #Longitud de D\n",
        "\n",
        "  d={} #Diccionario vacío\n",
        "  [d.setdefault(x,inf) for x in range(n)] #{0: [inf],...,s:0,...,n-1:[inf]}\n",
        "  d[s]=0\n",
        "  \n",
        "  p={}\n",
        "  [p.setdefault(x,-1) for x in range(n)] #{0: [-1],...,s:s,...,n-1:[-1]}\n",
        "  p[s]=s\n",
        "\n",
        "  dd = [inf]*n #[inf,...,0,...inf] almacenará las etiquetas rojas (vistas en clase) de cada vértice\n",
        "  dd[s] = 0\n",
        "\n",
        "  for x in range(0,n):\n",
        "    i=np.argmin(dd) #Tomamos el vértice con menor distancia (acumulada) de las etiquetas en dd\n",
        "    for j in range(0,n):\n",
        "      if D[i,j] != inf and d[j]>d[i]+D[i,j]: #Verifica si los vértices i y j son adyacentes, y compara dos etiquetas del vértice j.  \n",
        "        d[j] = d[i]+D[i,j] #Hace el cambio de distancia\n",
        "        dd[j] = d[j] #Cambiamos la etiqueta original del vértice j por una más pequeña y la almacenamos en dd\n",
        "        p[j] = i #Cambia el predecesor original de j\n",
        "    dd[i] = inf #Eliminamos el vértice i de la búsqueda\n",
        "  return d,p\n",
        "\n",
        "if __name__ == '__main__':\n",
        "\n",
        " B = np.array([[inf,8,inf,inf,inf,inf,1],\n",
        "              [8,inf,5,inf,inf,3,2],\n",
        "              [inf,5,inf,6,inf,9,inf],\n",
        "              [inf,inf,6,inf,3,1,inf],\n",
        "              [inf,inf,inf,3,inf,7,inf],\n",
        "              [inf,3,9,1,7,inf,4],\n",
        "              [1,2,inf,inf,inf,4,inf]])\n",
        " C = np.array([[inf,2,5,8,inf],\n",
        "              [2,inf,inf,7,3],\n",
        "              [5,inf,inf,1,inf],\n",
        "              [8,7,1,inf,4],\n",
        "              [inf,3,inf,4,inf]])\n",
        "Dist, Pre = Dijkstra(B,0)\n",
        "print('Distancias:', Dist)\n",
        "print('Predecesores:', Pre)"
      ]
    },
    {
      "cell_type": "code",
      "source": [
        "#My version =)\n",
        "import numpy as np\n",
        "import math\n",
        "inf = math.inf\n",
        "\n",
        "class Vertice: # Clase Vértice\n",
        "  def __init__(self,i): #Método constructor \n",
        "    self.id = i #Atributos de instancia\n",
        "    self.vecinos = []\n",
        "\n",
        "  def agregaVecino(self, v, p): #Método (agregamos vecinos con peso a cada vértice)\n",
        "    if v not in self.vecinos:\n",
        "      self.vecinos.append([v, p])\n",
        "\n",
        "class Grafica: # Clase grafica\n",
        "  def __init__(self): #Método constructor\n",
        "    self.vertices = {} #Diccionario\n",
        "  \n",
        "  def agregaVertice(self,v): #Método\n",
        "    if v not in self.vertices: #Agrega vértices si no han sido agregados\n",
        "      self.vertices[v] = Vertice(v) #Crea una llave dentro del diccionario vertices con valor un objeto de tipo vértice con id igual a v\n",
        "  \n",
        "  def agregaArista(self, a, b, p): #Método\n",
        "    if a in self.vertices and b in self.vertices: #Revisamos si los vértices a y b ya fueron agregados al diccionario self.vertices\n",
        "      self.vertices[a].agregaVecino(b, p) # Agregamos a b (con peso p) como vecino de a\n",
        "      self.vertices[b].agregaVecino(a, p) # Agregamos a a (con peso p) como vecino de b \n",
        "  \n",
        "  def dijkstra(self, r):\n",
        "    d = {} #Diccionario vacío\n",
        "    [d.setdefault(v,inf) for v in self.vertices] #{0: inf,...,r: 0,...,n-1:inf}\n",
        "    d[r] = 0\n",
        "  \n",
        "    p = {} #Diccionario vacío\n",
        "    [p.setdefault(v,-1) for v in self.vertices] #{0: -1,...,r:r,...,n-1:-1}\n",
        "    p[r] = r\n",
        "\n",
        "    dd = [inf for v in self.vertices] #[inf,...,0,...inf] almacenará las etiquetas rojas (vistas en clase) de cada vértice\n",
        "    dd[r] = 0\n",
        "  \n",
        "    for v in self.vertices:                                   \n",
        "      i = np.argmin(dd)  \n",
        "      for j in self.vertices[i].vecinos:\n",
        "        if d[j[0]] > d[i] + j[1]:\n",
        "          d[j[0]] = d[i] + j[1]\n",
        "          dd[j[0]] = d[j[0]]\n",
        "          p[j[0]] = i\n",
        "      dd[i] = inf\n",
        "    return d,p\n",
        "\n",
        "def main():\n",
        "  g = Grafica()\n",
        "  for i in range(6):\n",
        "    g.agregaVertice(i)\n",
        "\n",
        "  g.agregaArista(0, 1, 7)\n",
        "  g.agregaArista(0, 2, 9)\n",
        "  g.agregaArista(0, 5, 15)\n",
        "  g.agregaArista(1, 2, 10)\n",
        "  g.agregaArista(1, 3, 15)\n",
        "  g.agregaArista(2, 3, 11)\n",
        "  g.agregaArista(2, 5, 2)\n",
        "  g.agregaArista(3, 4, 6)\n",
        "  g.agregaArista(4, 5, 9)\n",
        "\n",
        "  Dist, Pre = g.dijkstra(0)\n",
        "  print('Distancias:', Dist)\n",
        "  print('Predecesores:', Pre)\n",
        "main()"
      ],
      "metadata": {
        "colab": {
          "base_uri": "https://localhost:8080/"
        },
        "id": "IKnBCnZOOXWY",
        "outputId": "51612425-9e01-4b1f-c3c1-70ef6fafb79c"
      },
      "execution_count": null,
      "outputs": [
        {
          "output_type": "stream",
          "name": "stdout",
          "text": [
            "Distancias: {0: 0, 1: 7, 2: 9, 3: 20, 4: 20, 5: 11}\n",
            "Predecesores: {0: 0, 1: 0, 2: 0, 3: 2, 4: 5, 5: 2}\n"
          ]
        }
      ]
    }
  ]
}